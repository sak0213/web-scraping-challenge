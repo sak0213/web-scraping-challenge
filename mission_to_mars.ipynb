{
 "cells": [
  {
   "cell_type": "code",
   "execution_count": null,
   "source": [
    "from bs4 import BeautifulSoup as bs\r\n",
    "import requests\r\n",
    "from splinter import Browser\r\n",
    "from webdriver_manager.chrome import ChromeDriverManager\r\n",
    "import pandas as pd\r\n",
    "import time\r\n"
   ],
   "outputs": [],
   "metadata": {}
  },
  {
   "cell_type": "code",
   "execution_count": null,
   "source": [
    "##### FInd News Articles ###\r\n",
    "url = \"https://redplanetscience.com/\"\r\n",
    "executable_path = {'executable_path': ChromeDriverManager().install()}\r\n",
    "browser = Browser('chrome', **executable_path, headless=False)"
   ],
   "outputs": [],
   "metadata": {}
  },
  {
   "cell_type": "code",
   "execution_count": null,
   "source": [
    "request = requests.get(url)\r\n",
    "browser.visit(url)"
   ],
   "outputs": [],
   "metadata": {}
  },
  {
   "cell_type": "code",
   "execution_count": null,
   "source": [
    "html = browser.html\r\n",
    "soup = bs(html, \"html.parser\")\r\n",
    "browser.quit()"
   ],
   "outputs": [],
   "metadata": {}
  },
  {
   "cell_type": "code",
   "execution_count": null,
   "source": [
    "soup_list = soup.find_all(\"div\", class_=\"list_text\")"
   ],
   "outputs": [],
   "metadata": {}
  },
  {
   "cell_type": "code",
   "execution_count": null,
   "source": [
    "headline = []\r\n",
    "description = []"
   ],
   "outputs": [],
   "metadata": {}
  },
  {
   "cell_type": "code",
   "execution_count": null,
   "source": [
    "for i in soup_list:\r\n",
    "    headlines = i.find(\"div\", \"content_title\").text\r\n",
    "    descriptions = i.find(\"div\", \"article_teaser_body\").text\r\n",
    "    headline.append(headlines)\r\n",
    "    description.append(descriptions)"
   ],
   "outputs": [],
   "metadata": {}
  },
  {
   "cell_type": "code",
   "execution_count": null,
   "source": [
    "##### FInd Featured Photo ###\r\n",
    "url = \"https://spaceimages-mars.com/\"\r\n",
    "executable_path = {'executable_path': ChromeDriverManager().install()}\r\n",
    "browser = Browser('chrome', **executable_path, headless=False)"
   ],
   "outputs": [],
   "metadata": {}
  },
  {
   "cell_type": "code",
   "execution_count": null,
   "source": [
    "request = requests.get(url)\r\n",
    "browser.visit(url)\r\n",
    "time.sleep(1)"
   ],
   "outputs": [],
   "metadata": {}
  },
  {
   "cell_type": "code",
   "execution_count": null,
   "source": [
    "html = browser.html\r\n",
    "soup = bs(html, \"html.parser\")"
   ],
   "outputs": [],
   "metadata": {}
  },
  {
   "cell_type": "code",
   "execution_count": null,
   "source": [
    "browser.links.find_by_partial_text('FULL IMAGE').click()"
   ],
   "outputs": [],
   "metadata": {}
  },
  {
   "cell_type": "code",
   "execution_count": null,
   "source": [
    "html = browser.html\r\n",
    "soup = bs(html, \"html.parser\")"
   ],
   "outputs": [],
   "metadata": {}
  },
  {
   "cell_type": "code",
   "execution_count": null,
   "source": [
    "soup1 = soup.find(\"div\", class_=\"floating_text_area\")\r\n",
    "photo_link = soup1.select_one(\"a\",target_=\"_blank\", class_=\"showimg fancybox-thumbs\")[\"href\"]\r\n",
    "browser.quit()"
   ],
   "outputs": [],
   "metadata": {}
  },
  {
   "cell_type": "code",
   "execution_count": null,
   "source": [
    "######## Find Mars Data #############\r\n",
    "url = \"https://galaxyfacts-mars.com/\"\r\n",
    "tables = pd.read_html(url)\r\n",
    "tables\r\n",
    "\r\n",
    "df = tables[0]\r\n",
    "new_header = df.iloc[0]\r\n",
    "df = df[1:]\r\n",
    "df.columns = new_header"
   ],
   "outputs": [],
   "metadata": {}
  },
  {
   "cell_type": "code",
   "execution_count": 93,
   "source": [
    "######## Find  #############\r\n",
    "url = \"https://marshemispheres.com/\"\r\n",
    "executable_path = {'executable_path': ChromeDriverManager().install()}\r\n",
    "browser = Browser('chrome', **executable_path, headless=False)\r\n",
    "request = requests.get(url)\r\n",
    "browser.visit(url)\r\n",
    "time.sleep(1)\r\n",
    "html = browser.html\r\n",
    "soup = bs(html, \"html.parser\")\r\n",
    "soupp = soup.find('div', class_='collapsible results')\r\n",
    "items = soupp.find_all(\"div\", class_=\"item\")"
   ],
   "outputs": [
    {
     "output_type": "stream",
     "name": "stderr",
     "text": [
      "\n",
      "\n",
      "====== WebDriver manager ======\n",
      "Current google-chrome version is 94.0.4606\n",
      "Get LATEST driver version for 94.0.4606\n",
      "Driver [C:\\Users\\steve\\.wdm\\drivers\\chromedriver\\win32\\94.0.4606.61\\chromedriver.exe] found in cache\n"
     ]
    }
   ],
   "metadata": {}
  },
  {
   "cell_type": "code",
   "execution_count": 94,
   "source": [
    "scrape_link = []\r\n",
    "picture_description = []\r\n",
    "#image links\r\n",
    "for i in items:\r\n",
    "    desc_container = i.find(\"a\", class_=\"itemLink product-item\")['href']\r\n",
    "    scrape_link.append(desc_container)\r\n",
    "    picture_description.append(i.find(\"h3\").text)"
   ],
   "outputs": [],
   "metadata": {}
  },
  {
   "cell_type": "code",
   "execution_count": 97,
   "source": [
    "image_link = []\r\n",
    "for i in scrape_link:\r\n",
    "    scrapable_url = f'{url}{i}'\r\n",
    "    browser.visit(scrapable_url)\r\n",
    "    # time.sleep(1)\r\n",
    "    html = browser.html\r\n",
    "    soup = bs(html, \"html.parser\")\r\n",
    "    downloads = soup.find('div', class_='downloads')\r\n",
    "    image_url = downloads.find(\"a\")[\"href\"]\r\n",
    "    image_link.append(f'{url}{image_url}')\r\n",
    "\r\n",
    "print(image_link)\r\n",
    "    "
   ],
   "outputs": [
    {
     "output_type": "stream",
     "name": "stdout",
     "text": [
      "['https://marshemispheres.com/images/full.jpg', 'https://marshemispheres.com/images/schiaparelli_enhanced-full.jpg', 'https://marshemispheres.com/images/syrtis_major_enhanced-full.jpg', 'https://marshemispheres.com/images/valles_marineris_enhanced-full.jpg']\n"
     ]
    }
   ],
   "metadata": {}
  }
 ],
 "metadata": {
  "orig_nbformat": 4,
  "language_info": {
   "name": "python",
   "version": "3.9.6",
   "mimetype": "text/x-python",
   "codemirror_mode": {
    "name": "ipython",
    "version": 3
   },
   "pygments_lexer": "ipython3",
   "nbconvert_exporter": "python",
   "file_extension": ".py"
  },
  "kernelspec": {
   "name": "python3",
   "display_name": "Python 3.9.6 64-bit ('PythonData': conda)"
  },
  "interpreter": {
   "hash": "3b32922ae442944bae51de5c420d7545d4126864cdc0e7cb358b7d9924f39d3e"
  }
 },
 "nbformat": 4,
 "nbformat_minor": 2
}