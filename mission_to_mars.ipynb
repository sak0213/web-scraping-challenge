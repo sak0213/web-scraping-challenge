{
 "cells": [
  {
   "cell_type": "code",
   "execution_count": null,
   "metadata": {},
   "outputs": [],
   "source": [
    "from bs4 import BeautifulSoup as bs\n",
    "from splinter import Browser\n",
    "from webdriver_manager.chrome import ChromeDriverManager\n",
    "import pandas as pd\n",
    "import time\n",
    "import pymongo"
   ]
  },
  {
   "cell_type": "code",
   "execution_count": null,
   "metadata": {},
   "outputs": [],
   "source": [
    "##### FInd News Articles ###\n",
    "url = \"https://redplanetscience.com/\"\n",
    "executable_path = {'executable_path': ChromeDriverManager().install()}\n",
    "browser = Browser('chrome', **executable_path, headless=False)"
   ]
  },
  {
   "cell_type": "code",
   "execution_count": null,
   "metadata": {},
   "outputs": [],
   "source": [
    "browser.visit(url)"
   ]
  },
  {
   "cell_type": "code",
   "execution_count": null,
   "metadata": {},
   "outputs": [],
   "source": [
    "html = browser.html\n",
    "soup = bs(html, \"html.parser\")"
   ]
  },
  {
   "cell_type": "code",
   "execution_count": null,
   "metadata": {},
   "outputs": [],
   "source": [
    "soup_list = soup.find_all(\"div\", class_=\"list_text\")"
   ]
  },
  {
   "cell_type": "code",
   "execution_count": null,
   "metadata": {},
   "outputs": [],
   "source": [
    "headline = []\n",
    "description = []"
   ]
  },
  {
   "cell_type": "code",
   "execution_count": null,
   "metadata": {},
   "outputs": [],
   "source": [
    "for i in soup_list:\n",
    "    headlines = i.find(\"div\", \"content_title\").text\n",
    "    descriptions = i.find(\"div\", \"article_teaser_body\").text\n",
    "    headline.append(headlines)\n",
    "    description.append(descriptions)"
   ]
  },
  {
   "cell_type": "code",
   "execution_count": null,
   "metadata": {},
   "outputs": [],
   "source": [
    "##### FInd Featured Photo ###\n",
    "url = \"https://spaceimages-mars.com/\""
   ]
  },
  {
   "cell_type": "code",
   "execution_count": null,
   "metadata": {},
   "outputs": [],
   "source": [
    "browser.visit(url)\n",
    "time.sleep(0.025)"
   ]
  },
  {
   "cell_type": "code",
   "execution_count": null,
   "metadata": {},
   "outputs": [],
   "source": [
    "html = browser.html\n",
    "soup = bs(html, \"html.parser\")"
   ]
  },
  {
   "cell_type": "code",
   "execution_count": null,
   "metadata": {},
   "outputs": [],
   "source": [
    "browser.links.find_by_partial_text('FULL IMAGE').click()"
   ]
  },
  {
   "cell_type": "code",
   "execution_count": null,
   "metadata": {},
   "outputs": [],
   "source": [
    "html = browser.html\n",
    "soup = bs(html, \"html.parser\")"
   ]
  },
  {
   "cell_type": "code",
   "execution_count": null,
   "metadata": {},
   "outputs": [],
   "source": [
    "soup1 = soup.find(\"div\", class_=\"floating_text_area\")\n",
    "photo_link = soup1.select_one(\"a\",target_=\"_blank\", class_=\"showimg fancybox-thumbs\")[\"href\"]"
   ]
  },
  {
   "cell_type": "code",
   "execution_count": null,
   "metadata": {},
   "outputs": [],
   "source": [
    "######## Find Mars Data #############\n",
    "url = \"https://galaxyfacts-mars.com/\"\n",
    "tables = pd.read_html(url)\n",
    "tables\n",
    "\n",
    "df = tables[0]\n",
    "new_header = df.iloc[0]\n",
    "df = df[1:]\n",
    "df.columns = new_header\n",
    "df = df.set_index(\"Mars - Earth Comparison\")\n",
    "df"
   ]
  },
  {
   "cell_type": "code",
   "execution_count": null,
   "metadata": {},
   "outputs": [],
   "source": [
    "######## Find  Hemisphere photos#############\n",
    "url = \"https://marshemispheres.com/\"\n",
    "browser.visit(url)\n",
    "time.sleep(.025)\n",
    "html = browser.html\n",
    "soup = bs(html, \"html.parser\")\n",
    "soupp = soup.find('div', class_='collapsible results')\n",
    "items = soupp.find_all(\"div\", class_=\"item\")"
   ]
  },
  {
   "cell_type": "code",
   "execution_count": null,
   "metadata": {},
   "outputs": [],
   "source": [
    "scrape_link = []\n",
    "picture_description = []\n",
    "#image links\n",
    "for i in items:\n",
    "    desc_container = i.find(\"a\", class_=\"itemLink product-item\")['href']\n",
    "    scrape_link.append(desc_container)\n",
    "    picture_description.append(i.find(\"h3\").text)"
   ]
  },
  {
   "cell_type": "code",
   "execution_count": null,
   "metadata": {},
   "outputs": [],
   "source": [
    "image_link = []\n",
    "for i in scrape_link:\n",
    "    scrapable_url = f'{url}{i}'\n",
    "    browser.visit(scrapable_url)\n",
    "    html = browser.html\n",
    "    soup = bs(html, \"html.parser\")\n",
    "    downloads = soup.find('div', class_='downloads')\n",
    "    image_url = downloads.find(\"a\")[\"href\"]\n",
    "    image_link.append(f'{url}{image_url}')\n",
    "browser.quit()    "
   ]
  },
  {
   "cell_type": "code",
   "execution_count": null,
   "metadata": {},
   "outputs": [],
   "source": [
    "headline\n",
    "description\n",
    "photo_link\n",
    "df\n",
    "image_link"
   ]
  },
  {
   "cell_type": "code",
   "execution_count": null,
   "metadata": {},
   "outputs": [],
   "source": [
    "mars_dictionary = {\n",
    "    \"news\": {\n",
    "        \"headline\": headline,\n",
    "        \"description\": description\n",
    "    },\n",
    "    \"featured_photo\" : photo_link,\n",
    "    \"data\": df.to_dict(),\n",
    "    \"hemispheres\": {\n",
    "        \"name\": picture_description,\n",
    "        \"image_link\":image_link\n",
    "    }\n",
    "}"
   ]
  },
  {
   "cell_type": "code",
   "execution_count": null,
   "metadata": {},
   "outputs": [],
   "source": [
    "conn = 'mongodb://localhost:27017'\n",
    "client = pymongo.MongoClient(conn)\n",
    "db = client.Mars_Data\n",
    "Scrape_Results = db.Scrape_Results\n",
    "Scrape_Results.insert_one(mars_dictionary)"
   ]
  }
 ],
 "metadata": {
  "interpreter": {
   "hash": "3b32922ae442944bae51de5c420d7545d4126864cdc0e7cb358b7d9924f39d3e"
  },
  "kernelspec": {
   "display_name": "Python 3.9.6 64-bit ('PythonData': conda)",
   "name": "python3"
  },
  "language_info": {
   "codemirror_mode": {
    "name": "ipython",
    "version": 3
   },
   "file_extension": ".py",
   "mimetype": "text/x-python",
   "name": "python",
   "nbconvert_exporter": "python",
   "pygments_lexer": "ipython3",
   "version": "3.9.6"
  },
  "orig_nbformat": 4
 },
 "nbformat": 4,
 "nbformat_minor": 2
}
